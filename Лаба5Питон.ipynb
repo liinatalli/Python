{
  "nbformat": 4,
  "nbformat_minor": 0,
  "metadata": {
    "colab": {
      "name": "Untitled0.ipynb",
      "provenance": [],
      "collapsed_sections": []
    },
    "kernelspec": {
      "name": "python3",
      "display_name": "Python 3"
    },
    "language_info": {
      "name": "python"
    }
  },
  "cells": [
    {
      "cell_type": "markdown",
      "source": [
        "Задача 1\n",
        "Напишите функцию square(), которая принимает на вход число и:\n",
        "- возвращает его квадрат;\n",
        "- выводит на экран сообщение вида \"Квадрат числа равен: n\" и ничего не возвращает;\n",
        "- выводит на экран сообщение вида \"Квадрат числа равен: n\" и возвращает квадрат числа;"
      ],
      "metadata": {
        "id": "UafvJHM7PO58"
      }
    },
    {
      "cell_type": "code",
      "source": [
        "n=int(input(\"Введите число: \"))\n",
        "import math\n",
        "a= int(math.sqrt(n))\n",
        "print(a)\n",
        "\n",
        "print(\"Квадрат числа равен: \", int((math.sqrt(n))))\n",
        "\n",
        "n=int(math.sqrt(n))\n",
        "print(\"Квадрат числа равен: \", n)"
      ],
      "metadata": {
        "id": "Xu71ZCMnPSq-",
        "colab": {
          "base_uri": "https://localhost:8080/"
        },
        "outputId": "5b3f814e-7621-4919-9f02-71db9c65d00e"
      },
      "execution_count": 21,
      "outputs": [
        {
          "output_type": "stream",
          "name": "stdout",
          "text": [
            "Введите число: 25\n",
            "5\n",
            "Квадрат числа равен:  5\n",
            "Квадрат числа равен:  5\n"
          ]
        }
      ]
    },
    {
      "cell_type": "markdown",
      "source": [
        "Задача 2\n",
        "Напишите функцию nums(), которая принимает на вход целое число, а возвращает список из двух элементов: целое число, предшествующее принятому на вход, и число, следующее за ним.\n"
      ],
      "metadata": {
        "id": "e5jyvKU_PVid"
      }
    },
    {
      "cell_type": "code",
      "source": [
        "a = []\n",
        "n = int(input(\"Введите число: \"))\n",
        "a.append(n-1)\n",
        "a.append(n+1)\n",
        "print(a)"
      ],
      "metadata": {
        "id": "T8J65MNtPXaX",
        "colab": {
          "base_uri": "https://localhost:8080/"
        },
        "outputId": "640e5fd3-8fba-40fe-c7f6-006d2eefdafe"
      },
      "execution_count": 8,
      "outputs": [
        {
          "output_type": "stream",
          "name": "stdout",
          "text": [
            "Введите число: 7\n",
            "[6, 8]\n"
          ]
        }
      ]
    },
    {
      "cell_type": "markdown",
      "source": [
        "Задача 3\n",
        "Напишите функцию str_lower(), которая принимает на вход строку (набор слов через пробел), а возвращает список ее элементов в нижнем регистре."
      ],
      "metadata": {
        "id": "Bf3q9Um3Pbtd"
      }
    },
    {
      "cell_type": "code",
      "source": [
        "a = input(\"Введите набор слов через пробел: \")\n",
        "b = []\n",
        "a = a.lower()\n",
        "print(a)\n",
        "b = a.split()\n",
        "print(b)\n"
      ],
      "metadata": {
        "id": "6Uh27427PcG9",
        "colab": {
          "base_uri": "https://localhost:8080/"
        },
        "outputId": "5d80e2e6-fb94-44ed-b8e2-377fb6ca2117"
      },
      "execution_count": 30,
      "outputs": [
        {
          "output_type": "stream",
          "name": "stdout",
          "text": [
            "Введите набор слов через пробел: hfjf JHK hjd Bhj\n",
            "hfjf jhk hjd bhj\n",
            "['hfjf', 'jhk', 'hjd', 'bhj']\n"
          ]
        }
      ]
    },
    {
      "cell_type": "markdown",
      "source": [
        "Задача 4\n",
        "Напишите функцию my_log(), которая принимает на вход список чисел, и возвращает список их натуральных логарифмов. Если число меньше или равно 0, на его месте в возвращаемом списке должно быть None.\n"
      ],
      "metadata": {
        "id": "khsYkrn5Pdd9"
      }
    },
    {
      "cell_type": "code",
      "source": [
        "a= input(\"Введите числа через пробел: \")\n",
        "b= []\n",
        "c = []\n",
        "d= []\n",
        "import math\n",
        "b = a.split() #поделили по пробел\n",
        "for i in b:\n",
        "  c.append(math.log(float(i)))\n",
        "for i in c:\n",
        "  if i<=0:\n",
        "    d.append('None')\n",
        "  else:\n",
        "    d.append(int(i))\n",
        "print(d)"
      ],
      "metadata": {
        "id": "oJXg8C7MPdyG",
        "colab": {
          "base_uri": "https://localhost:8080/"
        },
        "outputId": "0ef0da2c-191f-49a7-b315-fdab6a3fbd35"
      },
      "execution_count": 55,
      "outputs": [
        {
          "output_type": "stream",
          "name": "stdout",
          "text": [
            "Введите числа через пробел: 45 78 0.63 56 9\n",
            "[3, 4, 'None', 4, 2]\n"
          ]
        }
      ]
    },
    {
      "cell_type": "markdown",
      "source": [
        "Задача 5\n",
        "Напишите функцию, которая принимает на вход два списка (имена людей и их возраст) и делает следующее:\n",
        "- если эти два списка имеют одинаковую длину, то возвращает словарь с парами имя-возраст;\n",
        "- если эти два списка имеют разную длину, то функция выводит на экран сообщение \"Списки имеют разную длину\" и возвращает пустой словарь.\n"
      ],
      "metadata": {
        "id": "nwiF3GbWPfiR"
      }
    },
    {
      "cell_type": "code",
      "source": [
        "a = input (\"Введите имена:\")\n",
        "b = input (\"Введите возраст:\")\n",
        "if a[1]==b[1]:\n",
        "  print (a[1],\":\",b[1])\n",
        "if a[2]==b[2]:\n",
        "  print (a[2],\":\",b[2])\n",
        "if a[3]==b[3]:\n",
        "  print(a[3],\":\",b[3])\n",
        "else: \n",
        "  print(\"Списки имеют разную длину\")"
      ],
      "metadata": {
        "id": "1uHB3GDJPf2Z"
      },
      "execution_count": null,
      "outputs": []
    },
    {
      "cell_type": "markdown",
      "source": [
        "Задача 6\n",
        "Напишите функцию all_sort(), которая принимает на вход перечень целых чисел через запятую (не список, а просто сколько угодно значений через запятую) и возвращает список этих значений, отсортированный по возрастанию."
      ],
      "metadata": {
        "id": "S-iNLXuQPhmQ"
      }
    },
    {
      "cell_type": "code",
      "source": [
        "a = input(\"Введите набор слов через запятую: \")\n",
        "b = []\n",
        "b = a.split(\", \")\n",
        "b.sort()\n",
        "print(b)"
      ],
      "metadata": {
        "id": "pn7aTs_LPh4o",
        "colab": {
          "base_uri": "https://localhost:8080/"
        },
        "outputId": "298b3883-85ed-4b23-8829-4b5efbbbf96f"
      },
      "execution_count": 58,
      "outputs": [
        {
          "output_type": "stream",
          "name": "stdout",
          "text": [
            "Введите набор слов через запятую: 7, 6, 1, 3, 8, 0, -2\n",
            "['-2', '0', '1', '3', '6', '7', '8']\n"
          ]
        }
      ]
    }
  ]
}